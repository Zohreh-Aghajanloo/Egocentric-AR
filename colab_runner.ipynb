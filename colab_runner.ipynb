{
 "cells": [
  {
   "cell_type": "markdown",
   "metadata": {},
   "source": [
    "# Getting started for the AML 2023/2024 Egocentric Vision Project"
   ]
  },
  {
   "cell_type": "markdown",
   "metadata": {
    "colab_type": "text",
    "id": "view-in-github"
   },
   "source": [
    "<a href=\"https://colab.research.google.com/github/Zohreh-Aghajanloo/Egocentric-AR/blob/master/colab_runner.ipynb\" target=\"_parent\"><img src=\"https://colab.research.google.com/assets/colab-badge.svg\" alt=\"Open In Colab\"/></a>"
   ]
  },
  {
   "cell_type": "markdown",
   "metadata": {},
   "source": [
    "## Downloading the code"
   ]
  },
  {
   "cell_type": "code",
   "execution_count": null,
   "metadata": {},
   "outputs": [],
   "source": [
    "# Clone the public repository (or your repository)\n",
    "!git clone https://github.com/Zohreh-Aghajanloo/Egocentric-AR.git aml23-ego"
   ]
  },
  {
   "cell_type": "code",
   "execution_count": null,
   "metadata": {},
   "outputs": [],
   "source": [
    "# Installing missing dependencies\n",
    "!pip install omegaconf coloredlogs wandb"
   ]
  },
  {
   "cell_type": "markdown",
   "metadata": {},
   "source": [
    "## EPIC-Kitchens-55 dataset\n",
    "\n",
    "**READ carefully!**\n",
    "\n",
    "To develop the project, you need to download the RGB frames for a subset of EPIC-Kitchens-55 (participants P08, P01 and P22) from [here](https://drive.google.com/drive/u/1/folders/1dJOtZ07WovP3YSCRAnU0E4gsfqDzpMVo). \n",
    "\n",
    "You also need to the pretrained checkpoints for each domain from [here](https://politoit-my.sharepoint.com/:f:/g/personal/simone_peirone_polito_it/ErdsZhvmR65Lun5_5O0-l5sBTPjCCZZq2f700Tj_CNzjTQ?e=L1yflf).\n",
    "\n",
    "Add the Google Drive directory containing the dataset to your Google Drive or upload the dataset on your Google Drive to access it from Google Colab.\n",
    "\n",
    "**NOTE**: As the dataset is quite heavy, we stronly suggest you to implement and test all your code on one for the three dataset. Then, once you are sure everything works, repeat the experiments on the remaining two datasets."
   ]
  },
  {
   "cell_type": "code",
   "execution_count": null,
   "metadata": {},
   "outputs": [],
   "source": [
    "# Mount google drive \n",
    "from google.colab import drive\n",
    "drive.mount('/content/drive')"
   ]
  },
  {
   "cell_type": "code",
   "execution_count": null,
   "metadata": {},
   "outputs": [],
   "source": [
    "%%bash\n",
    "mkdir -p ek_data/frames\n",
    "mkdir -p aml23-ego/saved_models\n",
    "\n",
    "cp /content/drive/MyDrive/Egocentric_Action_Recognition/Epic_Kitchens_reduced/*.zip ./ek_data\n",
    "cp /content/drive/MyDrive/Egocentric_Action_Recognition/I3D_SourceOnlyD1.zip ./aml23-ego/saved_models\n",
    "\n",
    "unzip ./aml23-ego/saved_models/I3D_SourceOnlyD1.zip -d aml23-ego/saved_models\n",
    "\n",
    "for file in ./ek_data/*.zip; do\n",
    "  fn=$(basename $file)\n",
    "  fn=${fn/.zip/}\n",
    "  ls -lah $file\n",
    "  unzip $file -d ek_data/frames\n",
    "done"
   ]
  },
  {
   "cell_type": "markdown",
   "metadata": {},
   "source": [
    "## Features extraction"
   ]
  },
  {
   "cell_type": "code",
   "execution_count": null,
   "metadata": {
    "id": "88YghJyXhbfS"
   },
   "outputs": [],
   "source": [
    "%%bash\n",
    "\n",
    "# Replace the following path with the path of your codebase\n",
    "cd aml23-ego\n",
    "\n",
    "python save_feat.py name=save_test_dense_k5 \\\n",
    "  split=test \\\n",
    "  save.dense_sampling.RGB=True \\\n",
    "  save.num_frames_per_clip.RGB=5 \\\n",
    "  config=configs/I3D_save_feat.yaml \\\n",
    "  dataset.shift=D1-D1 \\\n",
    "  dataset.RGB.data_path=../ek_data/frames\n",
    "\n",
    "# If everything is working, you should expect an error message telling you to implement the '_get_val_indices' method in the dataset class.\n",
    "# Once you have implemented it, you should run the script for the train and test split of the dataset to extract the features."
   ]
  },
  {
   "cell_type": "markdown",
   "metadata": {},
   "source": [
    "## Clustering"
   ]
  },
  {
   "cell_type": "code",
   "execution_count": null,
   "metadata": {},
   "outputs": [],
   "source": [
    "%%bash\n",
    "\n",
    "cd aml23-ego\n",
    "\n",
    "python clustering.py"
   ]
  },
  {
   "cell_type": "markdown",
   "metadata": {},
   "source": [
    "## Train Classifier"
   ]
  },
  {
   "cell_type": "code",
   "execution_count": null,
   "metadata": {},
   "outputs": [],
   "source": [
    "%%bash\n",
    "\n",
    "cd aml23-ego\n",
    "\n",
    "python train_classifier.py name=classify_uniform_k25_cnn \\\n",
    "  config=configs/default.yaml \\\n",
    "  action=train \\\n",
    "  train.num_frames_per_clip.RGB=25 \\\n",
    "  test.num_frames_per_clip.RGB=25 \\\n",
    "  models.RGB.model=CNN \\\n",
    "  train.dense_sampling.RGB=False \\\n",
    "  dataset.shift=D1-D1 \\\n",
    "  dataset.RGB.data_path=../ek_data/frames \\\n",
    "  dataset.RGB.features_name=save_uniform_k25"
   ]
  },
  {
   "cell_type": "markdown",
   "metadata": {},
   "source": [
    "## Test"
   ]
  },
  {
   "cell_type": "code",
   "execution_count": null,
   "metadata": {},
   "outputs": [],
   "source": [
    "%%bash\n",
    "\n",
    "cd aml23-ego\n",
    "\n",
    "python train_classifier.py name=test_dense_k5_lstm \\\n",
    "  config=configs/default.yaml \\\n",
    "  action=test \\\n",
    "  train.num_frames_per_clip.RGB=5 \\\n",
    "  test.num_frames_per_clip.RGB=5 \\\n",
    "  models.RGB.model=LSTM \\\n",
    "  train.dense_sampling.RGB=True \\\n",
    "  dataset.shift=D1-D1 \\\n",
    "  dataset.RGB.data_path=../ek_data/frames \\\n",
    "  dataset.RGB.features_name=save_dense_k5 \\\n",
    "  resume_from=saved_models/classify_dense_k5_lstm/Jun15_09-14-32/classify_dense_k5_lstm"
   ]
  },
  {
   "cell_type": "markdown",
   "metadata": {},
   "source": [
    "## ActionNet - Feature Extraction"
   ]
  },
  {
   "cell_type": "code",
   "execution_count": null,
   "metadata": {},
   "outputs": [],
   "source": [
    "%%bash\n",
    "mkdir -p an_data\n",
    "mkdir -p aml23-ego/saved_models\n",
    "\n",
    "cp /content/drive/MyDrive/Egocentric_Action_Recognition/emg_data/* ./aml23-ego/action-net/data\n",
    "cp /content/drive/MyDrive/Egocentric_Action_Recognition/frames.zip ./an_data\n",
    "cp /content/drive/MyDrive/Egocentric_Action_Recognition/I3D_SourceOnlyD1.zip ./aml23-ego/saved_models\n",
    "\n",
    "unzip ./aml23-ego/saved_models/I3D_SourceOnlyD1.zip -d aml23-ego/saved_models\n",
    "\n",
    "for file in ./an_data/*.zip; do\n",
    "  fn=$(basename $file)\n",
    "  fn=${fn/.zip/}\n",
    "  ls -lah $file\n",
    "  unzip $file -d an_data\n",
    "done"
   ]
  },
  {
   "cell_type": "code",
   "execution_count": null,
   "metadata": {},
   "outputs": [],
   "source": [
    "%%bash\n",
    "\n",
    "cd aml23-ego\n",
    "\n",
    "python save_feat_actionNet.py name=save_actionNet \\\n",
    "  config=configs/I3D_save_feat.yaml \\\n",
    "  dataset.RGB.data_path=../an_data/frames \\\n",
    "  split=train \\\n",
    "  dataset.shift=D1-D1 \\\n",
    "  dataset.annotations_path=action-net/data \\\n",
    "  dataset.RGB.tmpl=\"frame_{:010d}.jpg\""
   ]
  },
  {
   "cell_type": "markdown",
   "metadata": {},
   "source": [
    "## ActionNet - Classification"
   ]
  },
  {
   "cell_type": "code",
   "execution_count": null,
   "metadata": {},
   "outputs": [],
   "source": [
    "%%bash\n",
    "\n",
    "cd aml23-ego\n",
    "\n",
    "python train_classifier_actionNet.py name=classify_actionNet_EMG_lstm \\\n",
    "  config=configs/actionNet_classifier.yaml \\\n",
    "  action=train \\\n",
    "  models.EMG.model=EMG_LSTM"
   ]
  }
 ],
 "metadata": {
  "accelerator": "GPU",
  "colab": {
   "authorship_tag": "ABX9TyMA44pwS84HIKtaEclSmH2W",
   "include_colab_link": true,
   "provenance": []
  },
  "gpuClass": "standard",
  "kernelspec": {
   "display_name": "Python 3 (ipykernel)",
   "language": "python",
   "name": "python3"
  },
  "language_info": {
   "codemirror_mode": {
    "name": "ipython",
    "version": 3
   },
   "file_extension": ".py",
   "mimetype": "text/x-python",
   "name": "python",
   "nbconvert_exporter": "python",
   "pygments_lexer": "ipython3",
   "version": "3.10.13"
  },
  "vscode": {
   "interpreter": {
    "hash": "2fc1f0eeae38a5df67b0f713e03196095ce1bfa55aa551576e8e58c2ba904c5a"
   }
  }
 },
 "nbformat": 4,
 "nbformat_minor": 1
}
